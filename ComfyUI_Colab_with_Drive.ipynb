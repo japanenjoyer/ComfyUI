{
  "nbformat": 4,
  "nbformat_minor": 0,
  "metadata": {
    "colab": {
      "provenance": [],
      "gpuType": "T4"
    },
    "kernelspec": {
      "name": "python3",
      "display_name": "Python 3"
    },
    "language_info": {
      "name": "python"
    },
    "accelerator": "GPU"
  },
  "cells": [
    {
      "cell_type": "markdown",
      "source": [
        "# ComfyUI on Google Colab with Your Google Drive Models\n",
        "\n",
        "This notebook will:\n",
        "1. Install ComfyUI\n",
        "2. Mount your Google Drive\n",
        "3. Link your backed-up models from Google Drive\n",
        "4. Start ComfyUI with Cloudflare tunnel for web access"
      ],
      "metadata": {
        "id": "view-in-github"
      }
    },
    {
      "cell_type": "code",
      "execution_count": null,
      "metadata": {
        "id": "install-comfyui"
      },
      "outputs": [],
      "source": [
        "# Mount Google Drive\n",
        "from google.colab import drive\n",
        "drive.mount('/content/drive')\n",
        "\n",
        "# Check if ComfyUI models exist in Google Drive\n",
        "!ls -la /content/drive/MyDrive/ComfyUI/models/"
      ]
    },
    {
      "cell_type": "code",
      "source": [
        "# Install ComfyUI and dependencies\n",
        "%cd /content\n",
        "!git clone https://github.com/comfyanonymous/ComfyUI\n",
        "%cd ComfyUI\n",
        "!pip install -r requirements.txt\n",
        "!pip install cloudflared"
      ],
      "metadata": {
        "id": "clone-comfyui"
      },
      "execution_count": null,
      "outputs": []
    },
    {
      "cell_type": "code",
      "source": [
        "# Create symbolic links to your Google Drive models\n",
        "# This avoids copying large files and saves Colab disk space\n",
        "\n",
        "import os\n",
        "import shutil\n",
        "\n",
        "# Remove default models directory\n",
        "if os.path.exists('/content/ComfyUI/models'):\n",
        "    shutil.rmtree('/content/ComfyUI/models')\n",
        "\n",
        "# Create symbolic link to Google Drive models\n",
        "!ln -s /content/drive/MyDrive/ComfyUI/models /content/ComfyUI/models\n",
        "\n",
        "# Verify the link\n",
        "!ls -la /content/ComfyUI/models/"
      ],
      "metadata": {
        "id": "link-models"
      },
      "execution_count": null,
      "outputs": []
    },
    {
      "cell_type": "code",
      "source": [
        "# Optional: Link only specific model types to save memory\n",
        "# Uncomment and modify as needed\n",
        "\n",
        "# # Create models directory\n",
        "# !mkdir -p /content/ComfyUI/models\n",
        "\n",
        "# # Link only specific subdirectories\n",
        "# !ln -s /content/drive/MyDrive/ComfyUI/models/checkpoints /content/ComfyUI/models/checkpoints\n",
        "# !ln -s /content/drive/MyDrive/ComfyUI/models/loras /content/ComfyUI/models/loras\n",
        "# !ln -s /content/drive/MyDrive/ComfyUI/models/vae /content/ComfyUI/models/vae\n",
        "# !ln -s /content/drive/MyDrive/ComfyUI/models/clip_vision /content/ComfyUI/models/clip_vision"
      ],
      "metadata": {
        "id": "selective-linking"
      },
      "execution_count": null,
      "outputs": []
    },
    {
      "cell_type": "code",
      "source": [
        "# Start ComfyUI with Cloudflare tunnel\n",
        "import subprocess\n",
        "import threading\n",
        "import time\n",
        "import socket\n",
        "\n",
        "def iframe_thread(port):\n",
        "    while True:\n",
        "        time.sleep(0.5)\n",
        "        sock = socket.socket(socket.AF_INET, socket.SOCK_STREAM)\n",
        "        result = sock.connect_ex(('127.0.0.1', port))\n",
        "        if result == 0:\n",
        "            break\n",
        "        sock.close()\n",
        "\n",
        "    print(\"\\nComfyUI finished loading!\")\n",
        "\n",
        "# Start ComfyUI\n",
        "threading.Thread(target=iframe_thread, daemon=True, args=(8188,)).start()\n",
        "\n",
        "# Start cloudflared tunnel\n",
        "!nohup cloudflared tunnel --url http://localhost:8188 > cloudflared.log 2>&1 &\n",
        "\n",
        "# Give cloudflared time to start\n",
        "time.sleep(4)\n",
        "\n",
        "# Display the tunnel URL\n",
        "print(\"\\n\" + \"=\"*50)\n",
        "print(\"Your ComfyUI URL:\")\n",
        "!grep -o 'https://.*\\.trycloudflare.com' cloudflared.log | head -1\n",
        "print(\"=\"*50 + \"\\n\")\n",
        "\n",
        "# Run ComfyUI\n",
        "!python main.py --dont-print-server"
      ],
      "metadata": {
        "id": "run-comfyui"
      },
      "execution_count": null,
      "outputs": []
    },
    {
      "cell_type": "markdown",
      "source": [
        "## Tips for using ComfyUI on Colab:\n",
        "\n",
        "1. **GPU Selection**: Go to Runtime > Change runtime type > T4 GPU (free) or better\n",
        "\n",
        "2. **Model Loading**: Since models are on Google Drive, initial loading might be slower than local SSD\n",
        "\n",
        "3. **Selective Model Loading**: If you run into memory issues, modify the notebook to only link specific model folders you need\n",
        "\n",
        "4. **Saving Outputs**: Outputs are saved to `/content/ComfyUI/output/`. You may want to copy important outputs to Google Drive before the session ends:\n",
        "   ```python\n",
        "   !cp -r /content/ComfyUI/output/* /content/drive/MyDrive/ComfyUI/outputs/\n",
        "   ```\n",
        "\n",
        "5. **Custom Nodes**: Install any custom nodes you need in additional cells"
      ],
      "metadata": {
        "id": "tips"
      }
    }
  ]
}